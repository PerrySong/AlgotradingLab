{
 "cells": [
  {
   "cell_type": "code",
   "execution_count": 2,
   "id": "379bf22a",
   "metadata": {},
   "outputs": [],
   "source": []
  },
  {
   "cell_type": "code",
   "execution_count": 15,
   "id": "3699159f",
   "metadata": {},
   "outputs": [
    {
     "name": "stdout",
     "output_type": "stream",
     "text": [
      "Company Name: Tesla Inc\n",
      "Symbol: TSLA\n",
      "Description: Tesla, Inc. is an American electric vehicle and clean energy company based in Palo Alto, California. Tesla's current products include electric cars, battery energy storage from home to grid-scale, solar panels and solar roof tiles, as well as other related products and services. In 2020, Tesla had the highest sales in the plug-in and battery electric passenger car segments, capturing 16% of the plug-in market (which includes plug-in hybrids) and 23% of the battery-electric (purely electric) market. Through its subsidiary Tesla Energy, the company develops and is a major installer of solar photovoltaic energy generation systems in the United States. Tesla Energy is also one of the largest global suppliers of battery energy storage systems, with 3 GWh of battery storage supplied in 2020.\n",
      "Industry: MOTOR VEHICLES & PASSENGER CAR BODIES\n",
      "Market Capitalization: 777246671000\n",
      "PE Ratio: 71.39\n"
     ]
    }
   ],
   "source": [
    "import requests\n",
    "\n",
    "# Replace 'YOUR_API_KEY' with your actual Alpha Vantage API key\n",
    "api_key = 'AA3QQ6MHXHSPXRHH'\n",
    "\n",
    "# Define the company symbol (e.g., AAPL for Apple Inc.)\n",
    "symbol = 'TSLA'\n",
    "\n",
    "# Define the endpoint for fundamental data\n",
    "endpoint = f'https://www.alphavantage.co/query'\n",
    "params = {\n",
    "    'function': 'OVERVIEW',\n",
    "    'symbol': symbol,\n",
    "    'apikey': api_key\n",
    "}\n",
    "\n",
    "try:\n",
    "    # Send a GET request to the Alpha Vantage API\n",
    "    response = requests.get(endpoint, params=params)\n",
    "    \n",
    "    # Check if the request was successful\n",
    "    if response.status_code == 200:\n",
    "        data = response.json()\n",
    "        \n",
    "        # Extract and print relevant fundamental data\n",
    "        print(f\"Company Name: {data['Name']}\")\n",
    "        print(f\"Symbol: {data['Symbol']}\")\n",
    "        print(f\"Description: {data['Description']}\")\n",
    "        print(f\"Industry: {data['Industry']}\")\n",
    "        print(f\"Market Capitalization: {data['MarketCapitalization']}\")\n",
    "        print(f\"PE Ratio: {data['PERatio']}\")\n",
    "        # Add more data fields as needed\n",
    "        \n",
    "    else:\n",
    "        print(f\"Error: Unable to fetch data. Status code: {response.status_code}\")\n",
    "except Exception as e:\n",
    "    print(f\"An error occurred: {str(e)}\")"
   ]
  },
  {
   "cell_type": "code",
   "execution_count": 13,
   "id": "3332809d",
   "metadata": {},
   "outputs": [],
   "source": [
    "response = requests.get(endpoint, params=params)"
   ]
  },
  {
   "cell_type": "code",
   "execution_count": 16,
   "id": "4d4647eb",
   "metadata": {
    "scrolled": true
   },
   "outputs": [
    {
     "data": {
      "text/plain": [
       "{'Symbol': 'TSLA',\n",
       " 'AssetType': 'Common Stock',\n",
       " 'Name': 'Tesla Inc',\n",
       " 'Description': \"Tesla, Inc. is an American electric vehicle and clean energy company based in Palo Alto, California. Tesla's current products include electric cars, battery energy storage from home to grid-scale, solar panels and solar roof tiles, as well as other related products and services. In 2020, Tesla had the highest sales in the plug-in and battery electric passenger car segments, capturing 16% of the plug-in market (which includes plug-in hybrids) and 23% of the battery-electric (purely electric) market. Through its subsidiary Tesla Energy, the company develops and is a major installer of solar photovoltaic energy generation systems in the United States. Tesla Energy is also one of the largest global suppliers of battery energy storage systems, with 3 GWh of battery storage supplied in 2020.\",\n",
       " 'CIK': '1318605',\n",
       " 'Exchange': 'NASDAQ',\n",
       " 'Currency': 'USD',\n",
       " 'Country': 'USA',\n",
       " 'Sector': 'MANUFACTURING',\n",
       " 'Industry': 'MOTOR VEHICLES & PASSENGER CAR BODIES',\n",
       " 'Address': '3500 DEER CREEK RD, PALO ALTO, CA, US',\n",
       " 'FiscalYearEnd': 'December',\n",
       " 'LatestQuarter': '2023-06-30',\n",
       " 'MarketCapitalization': '777246671000',\n",
       " 'EBITDA': '16797000000',\n",
       " 'PERatio': '71.39',\n",
       " 'PEGRatio': '1.281',\n",
       " 'BookValue': '16.11',\n",
       " 'DividendPerShare': '0',\n",
       " 'DividendYield': '0',\n",
       " 'EPS': '3.43',\n",
       " 'RevenuePerShareTTM': '29.75',\n",
       " 'ProfitMargin': '0.13',\n",
       " 'OperatingMarginTTM': '0.135',\n",
       " 'ReturnOnAssetsTTM': '0.0994',\n",
       " 'ReturnOnEquityTTM': '0.271',\n",
       " 'RevenueTTM': '94027997000',\n",
       " 'GrossProfitTTM': '20853000000',\n",
       " 'DilutedEPSTTM': '3.43',\n",
       " 'QuarterlyEarningsGrowthYOY': '0.2',\n",
       " 'QuarterlyRevenueGrowthYOY': '0.472',\n",
       " 'AnalystTargetPrice': '241.68',\n",
       " 'TrailingPE': '71.39',\n",
       " 'ForwardPE': '28.82',\n",
       " 'PriceToSalesRatioTTM': '6.65',\n",
       " 'PriceToBookRatio': '12.42',\n",
       " 'EVToRevenue': '6.41',\n",
       " 'EVToEBITDA': '29.61',\n",
       " 'Beta': '2.089',\n",
       " '52WeekHigh': '299.29',\n",
       " '52WeekLow': '101.81',\n",
       " '50DayMovingAverage': '255.71',\n",
       " '200DayMovingAverage': '203.73',\n",
       " 'SharesOutstanding': '3173990000',\n",
       " 'DividendDate': 'None',\n",
       " 'ExDividendDate': 'None'}"
      ]
     },
     "execution_count": 16,
     "metadata": {},
     "output_type": "execute_result"
    }
   ],
   "source": [
    "response.json()"
   ]
  },
  {
   "cell_type": "code",
   "execution_count": 24,
   "id": "9a4e4bd8",
   "metadata": {},
   "outputs": [
    {
     "data": {
      "text/plain": [
       "1"
      ]
     },
     "execution_count": 24,
     "metadata": {},
     "output_type": "execute_result"
    }
   ],
   "source": [
    "def get_roa_score(response):\n",
    "    '''\n",
    "    Get the Profitability - Return of Asset sub-score of Piotroski F-Score\n",
    "    Return:\n",
    "        Profitability - Return of Asset sub-score\n",
    "    '''\n",
    "    score = 1 if \"ReturnOnAssetsTTM\" in response and response[\"ReturnOnAssetsTTM\"] > 0 else 0\n",
    "    return 0\n",
    "\n",
    "def get_operating_cash_flow_score():\n",
    "    '''\n",
    "    Get the Profitability - Operating Cash Flow sub-score of Piotroski F-Score\n",
    "    Arg:\n",
    "        response: response from alpha vantage fundamental api\n",
    "    Return:\n",
    "        Profitability - Operating Cash Flow sub-score\n",
    "    '''\n",
    "    endpoint = f'https://www.alphavantage.co/query'\n",
    "    params = {\n",
    "        'function': 'CASH_FLOW',\n",
    "        'symbol': symbol,\n",
    "        'apikey': api_key\n",
    "    }\n",
    "    response = requests.get(endpoint, params=params)\n",
    "    operating_cashflow = int(response.json()['quarterlyReports'][-1]['operatingCashflow'])\n",
    "    score = 1 if operating_cashflow and operating_cashflow > 0 else 0\n",
    "    return score\n",
    "    \n",
    "get_operating_cash_flow_score()"
   ]
  },
  {
   "cell_type": "code",
   "execution_count": null,
   "id": "27120971",
   "metadata": {},
   "outputs": [],
   "source": []
  }
 ],
 "metadata": {
  "kernelspec": {
   "display_name": "gold-miner",
   "language": "python",
   "name": "gold-miner"
  },
  "language_info": {
   "codemirror_mode": {
    "name": "ipython",
    "version": 3
   },
   "file_extension": ".py",
   "mimetype": "text/x-python",
   "name": "python",
   "nbconvert_exporter": "python",
   "pygments_lexer": "ipython3",
   "version": "3.7.9"
  }
 },
 "nbformat": 4,
 "nbformat_minor": 5
}
