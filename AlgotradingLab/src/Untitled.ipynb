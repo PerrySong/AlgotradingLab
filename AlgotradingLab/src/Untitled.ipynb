{
 "cells": [
  {
   "cell_type": "code",
   "execution_count": 1,
   "metadata": {},
   "outputs": [
    {
     "data": {
      "text/plain": [
       "'\\nWhen accessing the values in a line, the current value is accessed with index: 0\\n\\nAnd the “last” output value is accessed with -1. This in line with Python conventions for iterables (and a line can be iterated and is therefore an iterable) where index -1 is used to access the “last” item of the iterable/array.\\n\\nIn our case is the last output value what’s getting accessed.\\n\\nAs such and being index 0 right after -1, it is used to access the current moment in line.\\n\\n'"
      ]
     },
     "execution_count": 1,
     "metadata": {},
     "output_type": "execute_result"
    }
   ],
   "source": [
    "# Backtrader\n",
    "# Lines\n",
    "\"\"\"\n",
    "Data Feeds, Indicators and Strategies have lines.\n",
    "\n",
    "A line is a succession of points that when joined together form this line. When talking about the markets, a Data Feed has usually the following set of points per day:\n",
    "\n",
    "Open, High, Low, Close, Volume, OpenInterest\n",
    "The series of “Open”s along time is a Line. And therefore a Data Feed has usually 6 lines.\n",
    "\n",
    "If we also consider “DateTime” (which is the actual reference for a single point), we could count 7 lines.\n",
    "\"\"\"\n",
    "\n",
    "# Index 0 Approach\n",
    "\"\"\"\n",
    "When accessing the values in a line, the current value is accessed with index: 0\n",
    "\n",
    "And the “last” output value is accessed with -1. This in line with Python conventions for iterables (and a line can be iterated and is therefore an iterable) where index -1 is used to access the “last” item of the iterable/array.\n",
    "\n",
    "In our case is the last output value what’s getting accessed.\n",
    "\n",
    "As such and being index 0 right after -1, it is used to access the current moment in line.\n",
    "\n",
    "\"\"\""
   ]
  },
  {
   "cell_type": "code",
   "execution_count": 2,
   "metadata": {},
   "outputs": [
    {
     "name": "stdout",
     "output_type": "stream",
     "text": [
      "Starting Portfolio Value: 10000.00\n",
      "Final Portfolio Value: 10000.00\n"
     ]
    }
   ],
   "source": [
    "import backtrader as bt\n",
    "if __name__ == '__main__':\n",
    "    cerebro = bt.Cerebro()\n",
    "\n",
    "    print('Starting Portfolio Value: %.2f' % cerebro.broker.getvalue())\n",
    "\n",
    "    cerebro.run()\n",
    "\n",
    "    print('Final Portfolio Value: %.2f' % cerebro.broker.getvalue())"
   ]
  },
  {
   "cell_type": "code",
   "execution_count": null,
   "metadata": {},
   "outputs": [],
   "source": []
  }
 ],
 "metadata": {
  "kernelspec": {
   "display_name": "ib-trading-bot",
   "language": "python",
   "name": "ib-trading-bot"
  },
  "language_info": {
   "codemirror_mode": {
    "name": "ipython",
    "version": 3
   },
   "file_extension": ".py",
   "mimetype": "text/x-python",
   "name": "python",
   "nbconvert_exporter": "python",
   "pygments_lexer": "ipython3",
   "version": "3.8.5"
  }
 },
 "nbformat": 4,
 "nbformat_minor": 4
}
